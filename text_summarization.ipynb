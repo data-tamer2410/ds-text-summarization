{
  "nbformat": 4,
  "nbformat_minor": 0,
  "metadata": {
    "colab": {
      "provenance": [],
      "authorship_tag": "ABX9TyPesrZTZ+TpbJQvyWaPTcrH",
      "include_colab_link": true
    },
    "kernelspec": {
      "name": "python3",
      "display_name": "Python 3"
    },
    "language_info": {
      "name": "python"
    }
  },
  "cells": [
    {
      "cell_type": "markdown",
      "metadata": {
        "id": "view-in-github",
        "colab_type": "text"
      },
      "source": [
        "<a href=\"https://colab.research.google.com/github/data-tamer2410/ds-text-summarization/blob/main/text_summarization.ipynb\" target=\"_parent\"><img src=\"https://colab.research.google.com/assets/colab-badge.svg\" alt=\"Open In Colab\"/></a>"
      ]
    },
    {
      "cell_type": "markdown",
      "source": [
        "# Task."
      ],
      "metadata": {
        "id": "wppZHsThr4t6"
      }
    },
    {
      "cell_type": "markdown",
      "source": [
        "Make a summary of the corresponding text using the librarie for NLP: nltk."
      ],
      "metadata": {
        "id": "Ed19PopGsIsb"
      }
    },
    {
      "cell_type": "markdown",
      "source": [
        "# Solving task."
      ],
      "metadata": {
        "id": "mYeUcYd0sWXB"
      }
    },
    {
      "cell_type": "code",
      "source": [
        "import nltk\n",
        "import string\n",
        "from heapq import nlargest\n",
        "from langdetect import detect\n",
        "from collections import Counter\n",
        "from nltk.corpus import stopwords\n",
        "from nltk.tokenize import word_tokenize,sent_tokenize"
      ],
      "metadata": {
        "id": "RHyIBP_QsedN"
      },
      "execution_count": 79,
      "outputs": []
    },
    {
      "cell_type": "markdown",
      "source": [
        "## Downloading the necessary resources and text."
      ],
      "metadata": {
        "id": "qYkOvWh43zpF"
      }
    },
    {
      "cell_type": "code",
      "source": [
        "nltk.download('punkt_tab') # Resource for tokenization of text.\n",
        "nltk.download('stopwords') # Download stop words."
      ],
      "metadata": {
        "colab": {
          "base_uri": "https://localhost:8080/"
        },
        "id": "QQLutzOlsvTf",
        "outputId": "88cb1a52-6355-4ec5-b2c9-48c59612ed71"
      },
      "execution_count": 80,
      "outputs": [
        {
          "output_type": "stream",
          "name": "stderr",
          "text": [
            "[nltk_data] Downloading package punkt_tab to /root/nltk_data...\n",
            "[nltk_data]   Package punkt_tab is already up-to-date!\n",
            "[nltk_data] Downloading package stopwords to /root/nltk_data...\n",
            "[nltk_data]   Package stopwords is already up-to-date!\n"
          ]
        },
        {
          "output_type": "execute_result",
          "data": {
            "text/plain": [
              "True"
            ]
          },
          "metadata": {},
          "execution_count": 80
        }
      ]
    },
    {
      "cell_type": "code",
      "source": [
        "# Loading text.\n",
        "with open('/content/text.txt','r',encoding='utf-8') as f:\n",
        "    text = f.read()"
      ],
      "metadata": {
        "id": "j0oQawZyutrH"
      },
      "execution_count": 81,
      "outputs": []
    },
    {
      "cell_type": "markdown",
      "source": [
        "## Text analysis."
      ],
      "metadata": {
        "id": "P_vZ6pZ95BXH"
      }
    },
    {
      "cell_type": "code",
      "source": [
        "# Definition of the language of the text.\n",
        "print(detect(text))"
      ],
      "metadata": {
        "colab": {
          "base_uri": "https://localhost:8080/"
        },
        "id": "hoBjVC-e7EIY",
        "outputId": "075e0f6a-a19f-4920-b4d0-46d504bad8b4"
      },
      "execution_count": 82,
      "outputs": [
        {
          "output_type": "stream",
          "name": "stdout",
          "text": [
            "en\n"
          ]
        }
      ]
    },
    {
      "cell_type": "code",
      "source": [
        "# We will get tokens words, tokens sentences, punctuation symbols and stop words for english language.\n",
        "tokens = word_tokenize(text)\n",
        "sentence_tokens = sent_tokenize(text)\n",
        "punctuation = string.punctuation + \"‘’“”„“\\n\"\n",
        "stop_words = set(stopwords.words('english'))"
      ],
      "metadata": {
        "id": "hJ4tMwAu3UYf"
      },
      "execution_count": 83,
      "outputs": []
    },
    {
      "cell_type": "code",
      "source": [
        "# Let's count the frequency of occurrence of words in the text.\n",
        "clear_words = []\n",
        "for word in tokens:\n",
        "    if word.lower() not in stop_words:\n",
        "        if word.lower() not in punctuation:\n",
        "            clear_words.append(word)\n",
        "\n",
        "word_frequencies = Counter(clear_words)\n",
        "word_frequencies.most_common()"
      ],
      "metadata": {
        "colab": {
          "base_uri": "https://localhost:8080/"
        },
        "id": "3wCiRWLC08Wo",
        "outputId": "2ba5f8c7-cfb5-4618-e1ea-bd6059ff5055"
      },
      "execution_count": 84,
      "outputs": [
        {
          "output_type": "execute_result",
          "data": {
            "text/plain": [
              "[('Space', 10),\n",
              " ('first', 10),\n",
              " ('Discovery', 7),\n",
              " ('Shuttle', 6),\n",
              " ('orbiter', 6),\n",
              " ('Criterion', 4),\n",
              " ('missions', 4),\n",
              " ('space', 3),\n",
              " ('flew', 3),\n",
              " ('also', 3),\n",
              " ('fly', 3),\n",
              " ('reusable', 3),\n",
              " ('U.S.', 2),\n",
              " ('Program', 2),\n",
              " ('C', 2),\n",
              " ('significant', 2),\n",
              " ('vehicles', 2),\n",
              " ('SSP', 2),\n",
              " ('five', 2),\n",
              " ('orbiters', 2),\n",
              " ('construction', 2),\n",
              " ('station', 2),\n",
              " ('times', 2),\n",
              " ('Challenger', 2),\n",
              " ('shuttle', 2),\n",
              " ('ISS', 2),\n",
              " ('flown', 2),\n",
              " ('engineering', 2),\n",
              " ('Hale', 2),\n",
              " ('winged', 2),\n",
              " ('hypersonic', 2),\n",
              " ('cargo-carrying', 2),\n",
              " ('base', 2),\n",
              " ('aircraft', 2),\n",
              " ('materials', 2),\n",
              " ('featured', 2),\n",
              " ('System', 2),\n",
              " ('TPS', 2),\n",
              " ('Orbiter', 1),\n",
              " ('OV-103', 1),\n",
              " ('considered', 1),\n",
              " ('eligible', 1),\n",
              " ('listing', 1),\n",
              " ('National', 1),\n",
              " ('Register', 1),\n",
              " ('Historic', 1),\n",
              " ('Places', 1),\n",
              " ('NRHP', 1),\n",
              " ('context', 1),\n",
              " ('1969-2011', 1),\n",
              " ('areas', 1),\n",
              " ('Exploration', 1),\n",
              " ('Transportation', 1),\n",
              " ('area', 1),\n",
              " ('Engineering', 1),\n",
              " ('achieved', 1),\n",
              " ('significance', 1),\n",
              " ('within', 1),\n",
              " ('past', 1),\n",
              " ('fifty', 1),\n",
              " ('years', 1),\n",
              " ('Criteria', 1),\n",
              " ('Consideration', 1),\n",
              " ('G', 1),\n",
              " ('applies', 1),\n",
              " ('oldest', 1),\n",
              " ('three', 1),\n",
              " ('extant', 1),\n",
              " ('constructed', 1),\n",
              " ('longest', 1),\n",
              " ('running', 1),\n",
              " ('American', 1),\n",
              " ('program', 1),\n",
              " ('date', 1),\n",
              " ('third', 1),\n",
              " ('built', 1),\n",
              " ('NASA', 1),\n",
              " ('Unlike', 1),\n",
              " ('Mercury', 1),\n",
              " ('Gemini', 1),\n",
              " ('Apollo', 1),\n",
              " ('programs', 1),\n",
              " ('emphasis', 1),\n",
              " ('cost', 1),\n",
              " ('effectiveness', 1),\n",
              " ('reusability', 1),\n",
              " ('eventually', 1),\n",
              " ('Including', 1),\n",
              " ('maiden', 1),\n",
              " ('voyage', 1),\n",
              " ('launched', 1),\n",
              " ('August', 1),\n",
              " ('30', 1),\n",
              " ('1984', 1),\n",
              " ('thirty-nine', 1),\n",
              " ('four', 1),\n",
              " ('twenty', 1),\n",
              " ('honor', 1),\n",
              " ('chosen', 1),\n",
              " ('Return', 1),\n",
              " ('Flight', 1),\n",
              " ('vehicle', 1),\n",
              " ('Columbia', 1),\n",
              " ('accidents', 1),\n",
              " ('redesigned', 1),\n",
              " ('SRBs', 1),\n",
              " ('result', 1),\n",
              " ('accident', 1),\n",
              " ('Phase', 1),\n",
              " ('II', 1),\n",
              " ('Block', 1),\n",
              " ('SSME', 1),\n",
              " ('carried', 1),\n",
              " ('Hubble', 1),\n",
              " ('Telescope', 1),\n",
              " ('orbit', 1),\n",
              " ('performed', 1),\n",
              " ('two', 1),\n",
              " ('servicing', 1),\n",
              " ('observatory', 1),\n",
              " ('last', 1),\n",
              " ('dedicated', 1),\n",
              " ('Department', 1),\n",
              " ('Defense', 1),\n",
              " ('DoD', 1),\n",
              " ('well', 1),\n",
              " ('unclassified', 1),\n",
              " ('defense-related', 1),\n",
              " ('mission', 1),\n",
              " ('addition', 1),\n",
              " ('vital', 1),\n",
              " ('International', 1),\n",
              " ('Station', 1),\n",
              " ('thirteen', 1),\n",
              " ('thirty-seven', 1),\n",
              " ('total', 1),\n",
              " ('dock', 1),\n",
              " ('perform', 1),\n",
              " ('exchange', 1),\n",
              " ('resident', 1),\n",
              " ('crew', 1),\n",
              " ('feat', 1),\n",
              " ('According', 1),\n",
              " ('Wayne', 1),\n",
              " ('flight', 1),\n",
              " ('director', 1),\n",
              " ('Johnson', 1),\n",
              " ('Center', 1),\n",
              " ('represents', 1),\n",
              " ('huge', 1),\n",
              " ('technological', 1),\n",
              " ('leap', 1),\n",
              " ('expendable', 1),\n",
              " ('rockets', 1),\n",
              " ('capsules', 1),\n",
              " ('spacecraft.', 1),\n",
              " ('Although', 1),\n",
              " ('structure', 1),\n",
              " ('followed', 1),\n",
              " ('conventional', 1),\n",
              " ('design', 1),\n",
              " ('used', 1),\n",
              " ('advanced', 1),\n",
              " ('minimized', 1),\n",
              " ('weight', 1),\n",
              " ('purposes', 1),\n",
              " ('low', 1),\n",
              " ('thermal', 1),\n",
              " ('expansion', 1),\n",
              " ('ratios', 1),\n",
              " ('provided', 1),\n",
              " ('stable', 1),\n",
              " ('Thermal', 1),\n",
              " ('Protection', 1),\n",
              " ('previous', 1),\n",
              " ('spaceflight', 1),\n",
              " ('single-use', 1),\n",
              " ('ablative', 1),\n",
              " ('heat', 1),\n",
              " ('shield', 1),\n",
              " ('notable', 1),\n",
              " ('achievements', 1),\n",
              " ('included', 1),\n",
              " ('orbital', 1),\n",
              " ('propulsion', 1),\n",
              " ('system', 1),\n",
              " ('two-fault-tolerant', 1),\n",
              " ('Integrated', 1),\n",
              " ('Avionics', 1),\n",
              " ('stated', 1),\n",
              " ('remains', 1),\n",
              " ('largest', 1),\n",
              " ('fastest', 1),\n",
              " ('history', 1),\n",
              " ('regularly', 1),\n",
              " ('twenty-five', 1),\n",
              " ('speed', 1),\n",
              " ('sound', 1)]"
            ]
          },
          "metadata": {},
          "execution_count": 84
        }
      ]
    },
    {
      "cell_type": "code",
      "source": [
        "# Calculation of scores for each sentence, based on the frequency of words in the text.\n",
        "sentence_scores = {}\n",
        "for sentence in sentence_tokens:\n",
        "    score = 0\n",
        "    for word in word_tokenize(sentence):\n",
        "        score += word_frequencies.get(word,0)\n",
        "    sentence_scores[sentence] = score"
      ],
      "metadata": {
        "id": "oeVnhY03Li8X"
      },
      "execution_count": 85,
      "outputs": []
    },
    {
      "cell_type": "code",
      "source": [
        "# Creating a summary of the text from the 5 most important sentences.\n",
        "summary = nlargest(5, sentence_scores, key=sentence_scores.get)\n",
        "for sent in summary:\n",
        "    print(sent)"
      ],
      "metadata": {
        "colab": {
          "base_uri": "https://localhost:8080/"
        },
        "id": "0XwVzsVFD1De",
        "outputId": "7ef7b29d-dee5-44b9-d68b-206ed3288247"
      },
      "execution_count": 89,
      "outputs": [
        {
          "output_type": "stream",
          "name": "stdout",
          "text": [
            "According to Wayne Hale, a flight director from Johnson Space Center, the Space Shuttle orbiter represents a “huge technological leap from expendable rockets and capsules to a reusable, winged, hypersonic, cargo-carrying spacecraft.” Although her base structure followed a conventional aircraft design, she used advanced materials that both minimized her weight for cargo-carrying purposes and featured low thermal expansion ratios, which provided a stable base for her Thermal Protection System (TPS) materials.\n",
            "The Orbiter Discovery, OV-103, is considered eligible for listing in the National Register of Historic Places (NRHP) in the context of the U.S. Space Shuttle Program (1969-2011) under Criterion A in the areas of Space Exploration and Transportation and under Criterion C in the area of Engineering.\n",
            "Under Criterion A, Discovery is significant as the oldest of the three extant orbiter vehicles constructed for the Space Shuttle Program (SSP), the longest running American space program to date; she was the third of five orbiters built by NASA.\n",
            "In addition, Discovery was vital to the construction of the International Space Station (ISS); she flew thirteen of the thirty-seven total missions flown to the station by a U.S. Space Shuttle.\n",
            "Including her maiden voyage (launched August 30, 1984), Discovery flew to space thirty-nine times, more than any of the other four orbiters; she was also the first orbiter to fly twenty missions.\n"
          ]
        }
      ]
    },
    {
      "cell_type": "markdown",
      "source": [
        "## Conclusion."
      ],
      "metadata": {
        "id": "0Q5cd79vTmth"
      }
    },
    {
      "cell_type": "markdown",
      "source": [
        "#### **English:**\n",
        "\n",
        "---\n",
        "\n",
        "In this project, I utilized the Natural Language Processing (NLP) library NLTK to process and summarize a given text. By tokenizing the text into words and sentences, filtering out stop words and punctuation, and calculating word frequencies, I was able to assign scores to sentences based on the relevance of the words they contained. The highest-scoring sentences were selected to create a concise summary of the text.\n",
        "\n",
        "#### **Ukrainian:**\n",
        "\n",
        "---\n",
        "\n",
        "У цьому проекті я використав бібліотеку обробки природної мови (NLP) NLTK для обробки та створення резюме тексту. Токенізуючи текст на слова та речення, фільтруючи стоп-слова і пунктуацію, а також обчислюючи частоту слів, я зміг призначити бали реченням на основі значущості слів, які вони містили. Речення з найвищими балами були вибрані для створення короткого резюме тексту."
      ],
      "metadata": {
        "id": "YpEkVEYoUtLM"
      }
    }
  ]
}